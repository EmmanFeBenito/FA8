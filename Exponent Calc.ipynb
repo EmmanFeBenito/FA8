{
 "cells": [
  {
   "cell_type": "markdown",
   "id": "6db4d0b9-45fc-40ac-b0d8-c3359122b093",
   "metadata": {},
   "source": [
    "# The recursive consistently performs faster than the iterative when the numbers are smaller"
   ]
  },
  {
   "cell_type": "code",
   "execution_count": 32,
   "id": "09a6c5cd-a23b-4127-8154-13b71d80f035",
   "metadata": {},
   "outputs": [
    {
     "name": "stdin",
     "output_type": "stream",
     "text": [
      "Enter the base:  32\n",
      "Enter the exponent:  5\n"
     ]
    },
    {
     "name": "stdout",
     "output_type": "stream",
     "text": [
      "Iterative result: 33554432.0\n",
      "Iterative rendering time: 0.000008800 seconds\n",
      "\n",
      "Recursive result: 33554432.0\n",
      "Recursive rendering time: 0.000006100 seconds\n",
      "\n",
      "The recursive function performs faster.\n"
     ]
    }
   ],
   "source": [
    "import time\n",
    "\n",
    "def iterative_exponent(base, exp):\n",
    "    result = 1\n",
    "    for _ in range(exp):\n",
    "        result *= base\n",
    "    return result\n",
    "\n",
    "def recursive_exponent(base, exp):\n",
    "    if exp == 0:\n",
    "        return 1\n",
    "    else:\n",
    "        return base * recursive_exponent(base, exp - 1)\n",
    "\n",
    "def calculate(base, exp):\n",
    "    start = time.perf_counter()\n",
    "    iterative_result = iterative_exponent(base, exp)\n",
    "    end = time.perf_counter()\n",
    "    iterative_time = end - start\n",
    "\n",
    "    start2 = time.perf_counter()\n",
    "    recursive_result = recursive_exponent(base, exp)\n",
    "    end2 = time.perf_counter()\n",
    "    recursive_time = end2 - start2\n",
    "\n",
    "    return iterative_result, recursive_result, iterative_time, recursive_time,\n",
    "\n",
    "base = float(input(\"Enter the base: \"))\n",
    "exp = int(input(\"Enter the exponent: \"))\n",
    "\n",
    "iterative_result, recursive_result, iterative_time, recursive_time = calculate(base, exp)\n",
    "\n",
    "\n",
    "print(\"Iterative result:\", iterative_result)\n",
    "print(\"Iterative rendering time:\", f\"{iterative_time:.9f} seconds\")\n",
    "\n",
    "print(\"\\nRecursive result:\", recursive_result)\n",
    "print(\"Recursive rendering time:\", f\"{recursive_time:.9f} seconds\")\n",
    "\n",
    "if iterative_time < recursive_time:\n",
    "    print(\"\\nThe iterative function performs faster.\")\n",
    "elif recursive_time < iterative_time:\n",
    "    print(\"\\nThe recursive function performs faster.\")\n"
   ]
  },
  {
   "cell_type": "markdown",
   "id": "e889c81a-bb78-4631-a284-b3e48dbf7f1e",
   "metadata": {},
   "source": [
    "# But if the operation being tested is much larger than the iterative function is consistently faster"
   ]
  },
  {
   "cell_type": "code",
   "execution_count": 24,
   "id": "a92ead24-20bd-44d9-9392-788eca442f47",
   "metadata": {},
   "outputs": [
    {
     "name": "stdin",
     "output_type": "stream",
     "text": [
      "Enter the base:  5824\n",
      "Enter the exponent:  721\n"
     ]
    },
    {
     "name": "stdout",
     "output_type": "stream",
     "text": [
      "Iterative result: inf\n",
      "Iterative rendering time: 0.000064500 seconds\n",
      "\n",
      "Recursive result: inf\n",
      "Recursive rendering time: 0.000389700 seconds\n",
      "\n",
      "The iterative function performs faster.\n"
     ]
    }
   ],
   "source": [
    "import time\n",
    "\n",
    "def iterative_exponent(base, exp):\n",
    "    result = 1\n",
    "    for _ in range(exp):\n",
    "        result *= base\n",
    "    return result\n",
    "\n",
    "def recursive_exponent(base, exp):\n",
    "    if exp == 0:\n",
    "        return 1\n",
    "    else:\n",
    "        return base * recursive_exponent(base, exp - 1)\n",
    "\n",
    "def calculate(base, exp):\n",
    "    start = time.perf_counter()\n",
    "    iterative_result = iterative_exponent(base, exp)\n",
    "    end = time.perf_counter()\n",
    "    iterative_time = end - start\n",
    "\n",
    "    start2 = time.perf_counter()\n",
    "    recursive_result = recursive_exponent(base, exp)\n",
    "    end2 = time.perf_counter()\n",
    "    recursive_time = end2 - start2\n",
    "\n",
    "    return iterative_result, recursive_result, iterative_time, recursive_time,\n",
    "\n",
    "base = float(input(\"Enter the base: \"))\n",
    "exp = int(input(\"Enter the exponent: \"))\n",
    "\n",
    "iterative_result, recursive_result, iterative_time, recursive_time = calculate(base, exp)\n",
    "\n",
    "\n",
    "print(\"Iterative result:\", iterative_result)\n",
    "print(\"Iterative rendering time:\", f\"{iterative_time:.9f} seconds\")\n",
    "\n",
    "print(\"\\nRecursive result:\", recursive_result)\n",
    "print(\"Recursive rendering time:\", f\"{recursive_time:.9f} seconds\")\n",
    "\n",
    "if iterative_time < recursive_time:\n",
    "    print(\"\\nThe iterative function performs faster.\")\n",
    "elif recursive_time < iterative_time:\n",
    "    print(\"\\nThe recursive function performs faster.\")\n"
   ]
  },
  {
   "cell_type": "markdown",
   "id": "0787b596-e773-4bcd-82fc-66d9aea54662",
   "metadata": {},
   "source": [
    "## In this instance, when the values are smaller the recursive function is more efficient due to splitting the functions into smaller pieces\n",
    "## But when larger values are at play, iterative is more efficient due to needing to only do multiplication, when recursive needs to do create multiple smaller pieces, slowing it down considerably"
   ]
  }
 ],
 "metadata": {
  "kernelspec": {
   "display_name": "Python 3 (ipykernel)",
   "language": "python",
   "name": "python3"
  },
  "language_info": {
   "codemirror_mode": {
    "name": "ipython",
    "version": 3
   },
   "file_extension": ".py",
   "mimetype": "text/x-python",
   "name": "python",
   "nbconvert_exporter": "python",
   "pygments_lexer": "ipython3",
   "version": "3.12.1"
  }
 },
 "nbformat": 4,
 "nbformat_minor": 5
}

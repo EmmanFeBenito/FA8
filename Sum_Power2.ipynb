{
 "cells": [
  {
   "cell_type": "markdown",
   "id": "3399ef17-175f-4ad4-9c83-feee5181d566",
   "metadata": {},
   "source": [
    "## The iterative function is faster \n",
    "## Because as the calculator before the iterative function is more simpler and better for these larger and more complex calculations"
   ]
  },
  {
   "cell_type": "code",
   "execution_count": 57,
   "id": "64540b42-a8e5-4308-81af-9a5df0beea7d",
   "metadata": {},
   "outputs": [
    {
     "name": "stdin",
     "output_type": "stream",
     "text": [
      "Enter the value of n:  20\n"
     ]
    },
    {
     "name": "stdout",
     "output_type": "stream",
     "text": [
      "\n",
      "Iterative result: 1048575\n",
      "Rendering time: 1.3499986380338669e-05 seconds\n",
      "\n",
      "Recursive result: 1048575\n",
      "Rendering time: 1.3999990187585354e-05 seconds\n",
      "\n",
      "The iterative function performs faster.\n"
     ]
    }
   ],
   "source": [
    "import time\n",
    "\n",
    "def iterative(n):\n",
    "    total = 0\n",
    "    for i in range(n):\n",
    "        total += 2 ** i\n",
    "    return total\n",
    "\n",
    "def recursive(n):\n",
    "    if n == 0:\n",
    "        return 0\n",
    "    else:\n",
    "        return 2 ** (n-1) + recursive(n-1)\n",
    "\n",
    "def rendering_time(func, n):\n",
    "    start_time = time.perf_counter()\n",
    "    result = func(n)\n",
    "    end_time = time.perf_counter()\n",
    "    rendering_duration = end_time - start_time\n",
    "    return result, rendering_duration\n",
    "\n",
    "n = int(input(\"Enter the value of n: \"))\n",
    "\n",
    "print()\n",
    "\n",
    "iterative_result, iterative_time = rendering_time(iterative, n)\n",
    "print(\"Iterative result:\", iterative_result)\n",
    "print(\"Rendering time:\", iterative_time, \"seconds\")\n",
    "\n",
    "print()\n",
    "\n",
    "recursive_result, recursive_time = rendering_time(recursive, n)\n",
    "print(\"Recursive result:\", recursive_result)\n",
    "print(\"Rendering time:\", recursive_time, \"seconds\")\n",
    "\n",
    "print()\n",
    "\n",
    "if iterative_time < recursive_time:\n",
    "    print(\"The iterative function performs faster.\")\n",
    "elif iterative_time > recursive_time:\n",
    "    print(\"The recursive function performs faster.\")\n"
   ]
  },
  {
   "cell_type": "code",
   "execution_count": null,
   "id": "331e995a-8436-4876-b86c-e9c3f472f68f",
   "metadata": {},
   "outputs": [],
   "source": []
  }
 ],
 "metadata": {
  "kernelspec": {
   "display_name": "Python 3 (ipykernel)",
   "language": "python",
   "name": "python3"
  },
  "language_info": {
   "codemirror_mode": {
    "name": "ipython",
    "version": 3
   },
   "file_extension": ".py",
   "mimetype": "text/x-python",
   "name": "python",
   "nbconvert_exporter": "python",
   "pygments_lexer": "ipython3",
   "version": "3.12.1"
  }
 },
 "nbformat": 4,
 "nbformat_minor": 5
}
